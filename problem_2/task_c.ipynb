{
 "cells": [
  {
   "cell_type": "markdown",
   "metadata": {},
   "source": [
    "# Task C\n",
    "\n",
    "## Goal\n",
    "\n",
    "1. iterative Method\n",
    "    1. Calc smallest and biggest eigenvalue \n",
    "    2. Calc (all?) eigenvectors?\n",
    "2. verfiy using some linalg libaray\n",
    "\n",
    "## sonstiges Wissen\n",
    "\n",
    "[doppelt stoachastisch](https://de.wikipedia.org/wiki/Doppelt-stochastische_Matrix), daraus folgt:\n",
    "+ betragsgrößter eigenwert = 1\n",
    "\n",
    "I use power iteration as described in the lecture of 15.03.2024 and in the code on the [github](https://github.com/nordam/ComputationalPhysics/blob/master/Notebooks/11%20-%20Eigenvalues%2C%20eigenvectors%20and%20SVD.ipynb). I used the code example provided there.\n"
   ]
  },
  {
   "cell_type": "code",
   "execution_count": 22,
   "metadata": {},
   "outputs": [],
   "source": [
    "from tools import power_iteration, generate_matrix_simple\n",
    "import numpy as np\n",
    "import matplotlib.pyplot as plt"
   ]
  },
  {
   "cell_type": "code",
   "execution_count": 15,
   "metadata": {},
   "outputs": [],
   "source": [
    "# Parameter\n",
    "nodes = 21\n",
    "starting_x = 10\n",
    "connections = [-2,-1,1,2]\n",
    "maxiter = 1000\n",
    "tol = 1e-6"
   ]
  },
  {
   "cell_type": "code",
   "execution_count": 16,
   "metadata": {},
   "outputs": [],
   "source": [
    "# generate inital_state and matrix\n",
    "t_matrix = generate_matrix_simple(nodes,connections)"
   ]
  },
  {
   "cell_type": "code",
   "execution_count": 17,
   "metadata": {},
   "outputs": [
    {
     "name": "stdout",
     "output_type": "stream",
     "text": [
      "eigenvalue: 0.999999999992648\n",
      "eigenvector: [0.21821642 0.21821596 0.21821566 0.21821557 0.21821568 0.21821599\n",
      " 0.21821647 0.21821707 0.21821775 0.21821843 0.21821908 0.21821961\n",
      " 0.21821999 0.21822019 0.21822018 0.21821997 0.21821957 0.21821903\n",
      " 0.21821838 0.21821769 0.21821702]\n",
      "converged: False\n"
     ]
    }
   ],
   "source": [
    "# find biggest eigenvalue\n",
    "eig_val_big, eig_vec_big, conv_status = power_iteration(t_matrix, maxiter, tol)\n",
    "print(f\"eigenvalue: {eig_val_big}\")\n",
    "print(f\"eigenvector: {eig_vec_big}\")\n",
    "print(f\"converged: {conv_status}\")"
   ]
  },
  {
   "cell_type": "code",
   "execution_count": 18,
   "metadata": {},
   "outputs": [
    {
     "name": "stdout",
     "output_type": "stream",
     "text": [
      "eigenvalue: 0.016629010219493902\n",
      "eigenvector: [-1.33623186e-01  9.06704623e-02 -4.56923101e-02 -3.06532846e-04\n",
      "  4.62985284e-02 -9.12562912e-02  1.34175539e-01 -1.74097528e-01\n",
      "  2.10130465e-01 -2.41469435e-01  2.67414376e-01 -2.87385723e-01\n",
      "  3.00937347e-01 -3.07766528e-01  3.07720714e-01 -3.00800927e-01\n",
      "  2.87161745e-01 -2.67107844e-01  2.41087195e-01 -2.09681056e-01\n",
      "  1.73590989e-01]\n",
      "converged: True\n"
     ]
    }
   ],
   "source": [
    "# Now we find the (absolute) smallest eigenvalue\n",
    "# First step inverting the Matrix \n",
    "inv_t_matrix = np.linalg.inv(t_matrix)\n",
    "inv_eig_val, inv_eig_vec, conv_status = power_iteration(inv_t_matrix, maxiter, tol)\n",
    "# calculate the smalles eig_value\n",
    "eig_val_small = 1/inv_eig_val\n",
    "eig_vec_small = inv_eig_vec\n",
    "print(f\"eigenvalue: {eig_val_small}\")\n",
    "print(f\"eigenvector: {eig_vec_small}\")\n",
    "print(f\"converged: {conv_status}\")\n"
   ]
  },
  {
   "cell_type": "code",
   "execution_count": 33,
   "metadata": {},
   "outputs": [
    {
     "name": "stdout",
     "output_type": "stream",
     "text": [
      "[-0.5617449  -0.5617449  -0.5        -0.5        -0.45705037 -0.45705037\n",
      " -0.32916089 -0.32916089 -0.18385542 -0.18385542 -0.13873953 -0.13873953\n",
      " -0.01662901 -0.01662901  0.20048443  0.20048443  0.5957899   0.5957899\n",
      "  0.89090579  0.89090579  1.        ]\n"
     ]
    },
    {
     "data": {
      "image/png": "[encoded data removed]",
      "text/plain": [
       "<Figure size 640x480 with 1 Axes>"
      ]
     },
     "metadata": {},
     "output_type": "display_data"
    }
   ],
   "source": [
    "# Now we control the eigenvalues using a linalg solver\n",
    "eig_val_check, eig_vec_check = np.linalg.eigh(t_matrix)\n",
    "\n",
    "print(eig_val_check)\n",
    "def index_gen(li):\n",
    "    return list(range(len(eig_val_check)))\n",
    "\n",
    "\n",
    "plt.scatter(2*6+0.5,-eig_val_small)\n",
    "plt.scatter(21,eig_val_big)\n",
    "plt.scatter(index_gen(eig_val_check),eig_val_check)\n",
    "\n",
    "plt.show()\n",
    "\n",
    "\"\"\"\n",
    "Pattern: every eignvalues except for one appears twice (degeneracy)\n",
    "\"\"\"\n"
   ]
  }
 ],
 "metadata": {
  "kernelspec": {
   "display_name": "Python 3",
   "language": "python",
   "name": "python3"
  },
  "language_info": {
   "codemirror_mode": {
    "name": "ipython",
    "version": 3
   },
   "file_extension": ".py",
   "mimetype": "text/x-python",
   "name": "python",
   "nbconvert_exporter": "python",
   "pygments_lexer": "ipython3",
   "version": "3.10.12"
  }
 },
 "nbformat": 4,
 "nbformat_minor": 2
}
