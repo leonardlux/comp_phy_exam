{
 "cells": [
  {
   "cell_type": "markdown",
   "metadata": {},
   "source": [
    "# Task f\n",
    "Backwards Time devolepment (1 and 5 steps back)\n",
    "\n",
    "Using 3 different solvers for linear equations.\n",
    "\n",
    "Compare efficency and accuracy"
   ]
  },
  {
   "cell_type": "code",
   "execution_count": 1,
   "metadata": {},
   "outputs": [],
   "source": [
    "from tools import simulate, inital_state_task_f, generate_matrix_simple\n",
    "import matplotlib.pyplot as plt"
   ]
  },
  {
   "cell_type": "code",
   "execution_count": 2,
   "metadata": {},
   "outputs": [],
   "source": [
    "# Parameter\n",
    "nodes = 21\n",
    "connections = [-2,-1,1,2]\n",
    "steps = [1,5]"
   ]
  },
  {
   "cell_type": "code",
   "execution_count": 3,
   "metadata": {},
   "outputs": [],
   "source": [
    "# generate matrix\n",
    "t_matrix = generate_matrix_simple(nodes,connections)\n",
    "# generate inital state\n",
    "inital_state = inital_state_task_f(nodes)"
   ]
  },
  {
   "cell_type": "code",
   "execution_count": 4,
   "metadata": {},
   "outputs": [],
   "source": [
    "# Now we need to find 3 different solvers\n",
    "from  scipy.sparse.linalg import spsolve\n",
    "from numpy.linalg import solve\n",
    "from scipy.sparse.linalg import bicgstab\n",
    "\n",
    "# all of them we used at some time during the lectures/github or I found them on the internet.\n",
    "\n",
    "# We all the funciton with their standard implementation and starting at numpy arrays, to compare them correctly\n"
   ]
  },
  {
   "cell_type": "code",
   "execution_count": 7,
   "metadata": {},
   "outputs": [
    {
     "name": "stderr",
     "output_type": "stream",
     "text": [
      "<magic-timeit>:1: SparseEfficiencyWarning: spsolve requires A be CSC or CSR matrix format\n"
     ]
    },
    {
     "name": "stdout",
     "output_type": "stream",
     "text": [
      "468 µs ± 17.7 µs per loop (mean ± std. dev. of 7 runs, 1,000 loops each)\n"
     ]
    }
   ],
   "source": [
    "%timeit x_spsolve = spsolve(t_matrix,inital_state)"
   ]
  },
  {
   "cell_type": "code",
   "execution_count": 8,
   "metadata": {},
   "outputs": [
    {
     "name": "stdout",
     "output_type": "stream",
     "text": [
      "The slowest run took 5.66 times longer than the fastest. This could mean that an intermediate result is being cached.\n",
      "101 µs ± 56 µs per loop (mean ± std. dev. of 7 runs, 10,000 loops each)\n"
     ]
    }
   ],
   "source": [
    "\n",
    "%timeit x_solve = solve(t_matrix,inital_state)"
   ]
  },
  {
   "cell_type": "code",
   "execution_count": 9,
   "metadata": {},
   "outputs": [
    {
     "name": "stdout",
     "output_type": "stream",
     "text": [
      "761 µs ± 132 µs per loop (mean ± std. dev. of 7 runs, 1,000 loops each)\n"
     ]
    }
   ],
   "source": [
    "%timeit x_bicgstab, _ =  bicgstab(t_matrix,inital_state)"
   ]
  },
  {
   "cell_type": "code",
   "execution_count": 10,
   "metadata": {},
   "outputs": [
    {
     "name": "stdout",
     "output_type": "stream",
     "text": [
      "[-4.39243973  4.8987875  -2.61861116  3.82521755 -2.99823043  1.71805368\n",
      " -2.12465786  1.96433589 -0.11272918  1.01933172 -0.41456559 -1.03704159\n",
      "  0.49407575 -0.76550782  2.52480739 -1.69612678  2.23422353 -3.74352205\n",
      "  3.15013338 -3.46600654  5.18583088]\n",
      "[-4.39241309  4.89876229 -2.61858589  3.82519399 -2.99820986  1.71803346\n",
      " -2.12464156  1.9643241  -0.11271912  1.01932722 -0.41456532 -1.03703966\n",
      "  0.49406792 -0.7654965   2.52479378 -1.69610776  2.234203   -3.74350028\n",
      "  3.15010838 -3.46598139  5.18580499]\n",
      "[-4.39241309  4.89876229 -2.61858589  3.82519399 -2.99820986  1.71803346\n",
      " -2.12464156  1.9643241  -0.11271912  1.01932722 -0.41456532 -1.03703966\n",
      "  0.49406792 -0.7654965   2.52479378 -1.69610776  2.234203   -3.74350028\n",
      "  3.15010838 -3.46598139  5.18580499]\n"
     ]
    }
   ],
   "source": [
    "print(x_bicgstab)\n",
    "print(x_solve)\n",
    "print(x_spsolve)"
   ]
  },
  {
   "cell_type": "markdown",
   "metadata": {},
   "source": [
    "Für den verlgeich schauen wir uns am Ende die jeweilge abweichung von den anderen Methoden an und gegebenenfalls von der invertierten Matrix"
   ]
  }
 ],
 "metadata": {
  "kernelspec": {
   "display_name": "Python 3",
   "language": "python",
   "name": "python3"
  },
  "language_info": {
   "codemirror_mode": {
    "name": "ipython",
    "version": 3
   },
   "file_extension": ".py",
   "mimetype": "text/x-python",
   "name": "python",
   "nbconvert_exporter": "python",
   "pygments_lexer": "ipython3",
   "version": "3.10.12"
  }
 },
 "nbformat": 4,
 "nbformat_minor": 2
}
