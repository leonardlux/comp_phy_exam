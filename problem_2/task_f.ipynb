{
 "cells": [
  {
   "cell_type": "markdown",
   "metadata": {},
   "source": [
    "# Task f\n",
    "Backwards Time devolepment (1 and 5 steps back)\n",
    "\n",
    "Using 3 different solvers for linear equations.\n",
    "\n",
    "Compare efficency and accuracy"
   ]
  },
  {
   "cell_type": "code",
   "execution_count": 1,
   "metadata": {},
   "outputs": [],
   "source": [
    "from tools import simulate, inital_state_task_f, generate_matrix_simple\n",
    "import matplotlib.pyplot as plt\n",
    "\n",
    "# nicer looking default plots (according to your github)\n",
    "plt.style.use('bmh')"
   ]
  },
  {
   "cell_type": "code",
   "execution_count": 2,
   "metadata": {},
   "outputs": [],
   "source": [
    "# Parameter\n",
    "nodes = 21\n",
    "connections = [-2,-1,1,2]\n",
    "steps = [1,5]"
   ]
  },
  {
   "cell_type": "code",
   "execution_count": 3,
   "metadata": {},
   "outputs": [],
   "source": [
    "# generate matrix\n",
    "t_matrix = generate_matrix_simple(nodes,connections)\n",
    "# generate inital state\n",
    "inital_state = inital_state_task_f(nodes)"
   ]
  },
  {
   "cell_type": "code",
   "execution_count": 4,
   "metadata": {},
   "outputs": [],
   "source": [
    "# Now we need to find 3 different solvers\n",
    "from  scipy.sparse.linalg import spsolve\n",
    "from numpy.linalg import solve\n",
    "from scipy.sparse.linalg import bicgstab\n",
    "import numpy as np\n",
    "\n",
    "# all of them we used at some time during the lectures/github or I found them on the internet.\n",
    "\n",
    "# We all the funciton with their standard implementation and starting at numpy arrays, to compare them correctly\n",
    "\n",
    "t_matrix_5 = np.linalg.matrix_power(t_matrix,5)"
   ]
  },
  {
   "cell_type": "code",
   "execution_count": 5,
   "metadata": {},
   "outputs": [
    {
     "name": "stderr",
     "output_type": "stream",
     "text": [
      "<magic-timeit>:1: SparseEfficiencyWarning: spsolve requires A be CSC or CSR matrix format\n"
     ]
    },
    {
     "name": "stdout",
     "output_type": "stream",
     "text": [
      "522 µs ± 118 µs per loop (mean ± std. dev. of 7 runs, 1,000 loops each)\n",
      "532 µs ± 19.1 µs per loop (mean ± std. dev. of 7 runs, 1,000 loops each)\n"
     ]
    }
   ],
   "source": [
    "%timeit x_spsolve = spsolve(t_matrix,inital_state)\n",
    "%timeit x_spsolve_5 = spsolve(t_matrix_5,inital_state)"
   ]
  },
  {
   "cell_type": "code",
   "execution_count": 6,
   "metadata": {},
   "outputs": [
    {
     "name": "stdout",
     "output_type": "stream",
     "text": [
      "311 µs ± 87.7 µs per loop (mean ± std. dev. of 7 runs, 1,000 loops each)\n",
      "258 µs ± 108 µs per loop (mean ± std. dev. of 7 runs, 1,000 loops each)\n"
     ]
    }
   ],
   "source": [
    "\n",
    "%timeit x_solve = solve(t_matrix,inital_state)\n",
    "%timeit x_solve_5 = solve(t_matrix_5,inital_state)"
   ]
  },
  {
   "cell_type": "code",
   "execution_count": 9,
   "metadata": {},
   "outputs": [
    {
     "name": "stdout",
     "output_type": "stream",
     "text": [
      "1.21 ms ± 214 µs per loop (mean ± std. dev. of 7 runs, 1,000 loops each)\n",
      "11.4 ms ± 1.68 ms per loop (mean ± std. dev. of 7 runs, 100 loops each)\n"
     ]
    }
   ],
   "source": [
    "%timeit x_bicgstab, _ =  bicgstab(t_matrix,inital_state)\n",
    "%timeit x_bicgstab_5, _ =  bicgstab(t_matrix_5,inital_state)"
   ]
  },
  {
   "cell_type": "code",
   "execution_count": 11,
   "metadata": {},
   "outputs": [
    {
     "ename": "NameError",
     "evalue": "name 'x_solve' is not defined",
     "output_type": "error",
     "traceback": [
      "\u001b[0;31m---------------------------------------------------------------------------\u001b[0m",
      "\u001b[0;31mNameError\u001b[0m                                 Traceback (most recent call last)",
      "Cell \u001b[0;32mIn[11], line 2\u001b[0m\n\u001b[1;32m      1\u001b[0m \u001b[38;5;66;03m#print(x_bicgstab)\u001b[39;00m\n\u001b[0;32m----> 2\u001b[0m \u001b[38;5;28mprint\u001b[39m(\u001b[43mx_solve\u001b[49m)\n\u001b[1;32m      3\u001b[0m \u001b[38;5;28mprint\u001b[39m(x_spsolve)\n",
      "\u001b[0;31mNameError\u001b[0m: name 'x_solve' is not defined"
     ]
    }
   ],
   "source": [
    "# Todo fix this\n",
    "print(x_bicgstab)\n",
    "print(x_solve)\n",
    "print(x_spsolve)"
   ]
  },
  {
   "cell_type": "markdown",
   "metadata": {},
   "source": [
    "Für den verlgeich schauen wir uns am Ende die jeweilge abweichung von den anderen Methoden an und gegebenenfalls von der invertierten Matrix"
   ]
  },
  {
   "cell_type": "code",
   "execution_count": null,
   "metadata": {},
   "outputs": [],
   "source": [
    "plt.plot(x_bicgstab)\n",
    "\n"
   ]
  },
  {
   "cell_type": "code",
   "execution_count": null,
   "metadata": {},
   "outputs": [],
   "source": [
    "plt.plot(t_matrix @ x_bicgstab)"
   ]
  }
 ],
 "metadata": {
  "kernelspec": {
   "display_name": "Python 3",
   "language": "python",
   "name": "python3"
  },
  "language_info": {
   "codemirror_mode": {
    "name": "ipython",
    "version": 3
   },
   "file_extension": ".py",
   "mimetype": "text/x-python",
   "name": "python",
   "nbconvert_exporter": "python",
   "pygments_lexer": "ipython3",
   "version": "3.10.12"
  }
 },
 "nbformat": 4,
 "nbformat_minor": 2
}
