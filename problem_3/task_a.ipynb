{
 "cells": [
  {
   "cell_type": "code",
   "execution_count": null,
   "metadata": {},
   "outputs": [],
   "source": [
    "from simulation import solve_simulation\n",
    "from opt_initial_values import inital_values_gauss\n",
    "from opt_diags_gen import diags_gen_forward_euler, diags_gen_backwards_euler, diags_gen_crank_nicholson\n",
    "\n",
    "import plots as pl"
   ]
  },
  {
   "cell_type": "code",
   "execution_count": null,
   "metadata": {},
   "outputs": [
    {
     "name": "stderr",
     "output_type": "stream",
     "text": [
      "/home/leo/Documents/Uni/24WS/comp_phy/Exam/exam_code/problem_3/simulation.py:58: RuntimeWarning: invalid value encountered in scalar multiply\n",
      "  d_[i] = (d[i] - a[i-1]*d_[i-1])/q\n"
     ]
    }
   ],
   "source": [
    "# forward euler\n",
    "U_fe = solve_simulation(inital_values_gauss,diags_gen_forward_euler)"
   ]
  },
  {
   "cell_type": "code",
   "execution_count": null,
   "metadata": {},
   "outputs": [],
   "source": [
    "# forward euler\n",
    "U_be = solve_simulation(inital_values_gauss,diags_gen_backwards_euler)"
   ]
  },
  {
   "cell_type": "code",
   "execution_count": null,
   "metadata": {},
   "outputs": [],
   "source": [
    "# crank nicholson\n",
    "U_cn = solve_simulation(inital_values_gauss,diags_gen_crank_nicholson)"
   ]
  },
  {
   "cell_type": "code",
   "execution_count": null,
   "metadata": {},
   "outputs": [],
   "source": [
    "pl.plot_diff_times(U_fe)"
   ]
  }
 ],
 "metadata": {
  "kernelspec": {
   "display_name": "Python 3",
   "language": "python",
   "name": "python3"
  },
  "language_info": {
   "codemirror_mode": {
    "name": "ipython",
    "version": 3
   },
   "file_extension": ".py",
   "mimetype": "text/x-python",
   "name": "python",
   "nbconvert_exporter": "python",
   "pygments_lexer": "ipython3",
   "version": "3.10.12"
  }
 },
 "nbformat": 4,
 "nbformat_minor": 2
}
